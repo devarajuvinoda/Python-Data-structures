{
 "cells": [
  {
   "cell_type": "code",
   "execution_count": 30,
   "metadata": {},
   "outputs": [],
   "source": [
    "class BinarySearchTree():\n",
    "    \n",
    "    def __init__(self, data):\n",
    "        self.root = data\n",
    "        self.left = None\n",
    "        self.right = None\n",
    "    \n",
    "    def insertData(self, value):\n",
    "        if(self.root is None):\n",
    "            self.root = value\n",
    "        else:\n",
    "            if(value > self.root):\n",
    "                if(self.right is None):\n",
    "                    self.right = BinarySearchTree(value)\n",
    "                else:\n",
    "                    self.right.insertData(value)\n",
    "            elif(value < self.root):\n",
    "                if(self.left is None):\n",
    "                    self.left = BinarySearchTree(value)\n",
    "                else:\n",
    "                    self.left.insertData(value)\n",
    "                \n",
    "    def printbst(self):\n",
    "        if(self.left):\n",
    "            self.left.printbst()\n",
    "        print(self.root)\n",
    "        if(self.right):\n",
    "            self.right.printbst()\n",
    "    \n",
    "    "
   ]
  },
  {
   "cell_type": "code",
   "execution_count": 37,
   "metadata": {},
   "outputs": [],
   "source": [
    "bst = BinarySearchTree(8)"
   ]
  },
  {
   "cell_type": "code",
   "execution_count": 38,
   "metadata": {},
   "outputs": [],
   "source": [
    "bst.insertData(2)"
   ]
  },
  {
   "cell_type": "code",
   "execution_count": 39,
   "metadata": {},
   "outputs": [],
   "source": [
    "bst.insertData(0)"
   ]
  },
  {
   "cell_type": "code",
   "execution_count": 40,
   "metadata": {},
   "outputs": [],
   "source": [
    "bst.insertData(5)"
   ]
  },
  {
   "cell_type": "code",
   "execution_count": 41,
   "metadata": {},
   "outputs": [],
   "source": [
    "bst.insertData(11)"
   ]
  },
  {
   "cell_type": "code",
   "execution_count": 42,
   "metadata": {},
   "outputs": [
    {
     "name": "stdout",
     "output_type": "stream",
     "text": [
      "0\n",
      "2\n",
      "5\n",
      "8\n",
      "11\n"
     ]
    }
   ],
   "source": [
    "bst.printbst()"
   ]
  },
  {
   "cell_type": "code",
   "execution_count": null,
   "metadata": {},
   "outputs": [],
   "source": []
  }
 ],
 "metadata": {
  "kernelspec": {
   "display_name": "Python 3",
   "language": "python",
   "name": "python3"
  },
  "language_info": {
   "codemirror_mode": {
    "name": "ipython",
    "version": 3
   },
   "file_extension": ".py",
   "mimetype": "text/x-python",
   "name": "python",
   "nbconvert_exporter": "python",
   "pygments_lexer": "ipython3",
   "version": "3.6.4"
  }
 },
 "nbformat": 4,
 "nbformat_minor": 2
}
