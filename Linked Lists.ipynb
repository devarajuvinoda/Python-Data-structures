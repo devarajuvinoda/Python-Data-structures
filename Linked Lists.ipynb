{
 "cells": [
  {
   "cell_type": "code",
   "execution_count": 21,
   "metadata": {},
   "outputs": [],
   "source": [
    "class Node:\n",
    "    def __init__(self, data = None):\n",
    "        self.data = data\n",
    "        self.next = None\n",
    "\n",
    "class SingleLL:\n",
    "    def __init__(self):\n",
    "        self.head = None"
   ]
  },
  {
   "cell_type": "code",
   "execution_count": 22,
   "metadata": {},
   "outputs": [],
   "source": [
    "llist = SingleLL()\n",
    "llist.head = Node('Monday')"
   ]
  },
  {
   "cell_type": "code",
   "execution_count": 23,
   "metadata": {},
   "outputs": [],
   "source": [
    "d2 = Node('Tuesday')\n",
    "d3 = Node('Wednesday')\n",
    "d4 = Node('Thursday')\n",
    "d5 = Node('Friday')"
   ]
  },
  {
   "cell_type": "code",
   "execution_count": 24,
   "metadata": {},
   "outputs": [],
   "source": [
    "llist.head.next = d2\n",
    "d2.next = d3\n",
    "d3.next = d4"
   ]
  },
  {
   "cell_type": "code",
   "execution_count": 25,
   "metadata": {},
   "outputs": [],
   "source": [
    "# Create and Print LL\n",
    "class Node:\n",
    "    def __init__(self, data = None):\n",
    "        self.data = data\n",
    "        self.next = None\n",
    "\n",
    "class SingleLL:\n",
    "    def __init__(self):\n",
    "        self.head = None\n",
    "    \n",
    "    def printll(self):\n",
    "        printdata = self.head\n",
    "        while printdata:\n",
    "            print(printdata.data)\n",
    "            printdata = printdata.next"
   ]
  },
  {
   "cell_type": "code",
   "execution_count": 26,
   "metadata": {},
   "outputs": [
    {
     "name": "stdout",
     "output_type": "stream",
     "text": [
      "Monday\n",
      "Tuesday\n",
      "Wednesday\n",
      "Thursday\n"
     ]
    }
   ],
   "source": [
    "llist = SingleLL()\n",
    "llist.head = Node('Monday')\n",
    "\n",
    "d2 = Node('Tuesday')\n",
    "d3 = Node('Wednesday')\n",
    "d4 = Node('Thursday')\n",
    "d5 = Node('Friday')\n",
    "\n",
    "llist.head.next = d2\n",
    "d2.next = d3\n",
    "d3.next = d4\n",
    "\n",
    "llist.printll()"
   ]
  },
  {
   "cell_type": "code",
   "execution_count": 29,
   "metadata": {},
   "outputs": [],
   "source": [
    "# Insertion at the begining of the Linked List\n",
    "class Node:\n",
    "    def __init__(self, data = None):\n",
    "        self.data = data\n",
    "        self.next = None\n",
    "        \n",
    "class SingleLL:\n",
    "    def __init__(self):\n",
    "        self.head = None\n",
    "    \n",
    "    def printll(self):\n",
    "        printdata = self.head\n",
    "        while printdata:\n",
    "            print(printdata.data)\n",
    "            printdata = printdata.next\n",
    "    \n",
    "    # Insert @ begining\n",
    "    def InsertB(self, newdata):\n",
    "        newNode = Node(newdata)\n",
    "        newNode.next = self.head\n",
    "        self.head = newNode"
   ]
  },
  {
   "cell_type": "code",
   "execution_count": 33,
   "metadata": {},
   "outputs": [
    {
     "name": "stdout",
     "output_type": "stream",
     "text": [
      "Saturday\n",
      "Sunday\n",
      "Monday\n",
      "Tuesday\n",
      "Wednesday\n",
      "Thursday\n"
     ]
    }
   ],
   "source": [
    "llist = SingleLL()\n",
    "llist.head = Node('Monday')\n",
    "\n",
    "d2 = Node('Tuesday')\n",
    "d3 = Node('Wednesday')\n",
    "d4 = Node('Thursday')\n",
    "d5 = Node('Friday')\n",
    "\n",
    "llist.head.next = d2\n",
    "d2.next = d3\n",
    "d3.next = d4\n",
    "\n",
    "llist.InsertB('Sunday')\n",
    "llist.InsertB('Saturday')\n",
    "\n",
    "llist.printll()"
   ]
  },
  {
   "cell_type": "code",
   "execution_count": 41,
   "metadata": {},
   "outputs": [],
   "source": [
    "# Insert an element at the end of Linked List\n",
    "class Node:\n",
    "    def __init__(self, data = None):\n",
    "        self.data = data\n",
    "        self.next = None\n",
    "class SingleLL:\n",
    "    def __init__(self):\n",
    "        self.head = None\n",
    "    \n",
    "    def printll(self):\n",
    "        printdata = self.head\n",
    "        while printdata:\n",
    "            print(printdata.data)\n",
    "            printdata = printdata.next\n",
    "    \n",
    "    def InsertE(self, newdata):\n",
    "        newNode = Node(newdata)\n",
    "        \n",
    "        if self.head is None:\n",
    "            self.head = newNode\n",
    "            return\n",
    "        \n",
    "        nodeTraverse = self.head\n",
    "        # Go till last node ( not till None present at lastNode)\n",
    "        while nodeTraverse.next: \n",
    "            nodeTraverse = nodeTraverse.next\n",
    "        nodeTraverse.next = newNode"
   ]
  },
  {
   "cell_type": "code",
   "execution_count": 43,
   "metadata": {},
   "outputs": [
    {
     "name": "stdout",
     "output_type": "stream",
     "text": [
      "Monday\n",
      "Tuesday\n",
      "Wednesday\n",
      "Thursday\n",
      "Saturday\n"
     ]
    }
   ],
   "source": [
    "llist = SingleLL()\n",
    "llist.head = Node('Monday')\n",
    "\n",
    "d2 = Node('Tuesday')\n",
    "d3 = Node('Wednesday')\n",
    "d4 = Node('Thursday')\n",
    "d5 = Node('Friday')\n",
    "\n",
    "llist.head.next = d2\n",
    "d2.next = d3\n",
    "d3.next = d4\n",
    "\n",
    "llist.InsertE('Saturday')\n",
    "\n",
    "llist.printll()"
   ]
  },
  {
   "cell_type": "code",
   "execution_count": 46,
   "metadata": {},
   "outputs": [],
   "source": [
    "# Insert an element between the Nodes of a LinkedList\n",
    "class Node:\n",
    "    def __init__(self, data = None):\n",
    "        self.data = data\n",
    "        self.next = None\n",
    "class SingleLL:\n",
    "    def __init__(self):\n",
    "        self.head = None\n",
    "    def printll(self):\n",
    "        printdata = self.head\n",
    "        while printdata:\n",
    "            print(printdata.data)\n",
    "            printdata = printdata.next\n",
    "    def InsertBW(self, middleVal, newdata):\n",
    "        newNode = Node(newdata)\n",
    "        newNode.next = middleVal.next\n",
    "        middleVal.next = newNode\n",
    "        "
   ]
  },
  {
   "cell_type": "code",
   "execution_count": 52,
   "metadata": {},
   "outputs": [
    {
     "name": "stdout",
     "output_type": "stream",
     "text": [
      "Monday\n",
      "Tuesday\n",
      "Wednesday\n",
      "Thursday\n",
      "InBW THandFR\n",
      "Friday\n"
     ]
    }
   ],
   "source": [
    "llist = SingleLL()\n",
    "llist.head = Node('Monday')\n",
    "\n",
    "d2 = Node('Tuesday')\n",
    "d3 = Node('Wednesday')\n",
    "d4 = Node('Thursday')\n",
    "d5 = Node('Friday')\n",
    "\n",
    "llist.head.next = d2\n",
    "d2.next = d3\n",
    "d3.next = d4\n",
    "d4.next = d5\n",
    "\n",
    "llist.InsertBW(d3.next, 'InBW THandFR')\n",
    "\n",
    "llist.printll()"
   ]
  },
  {
   "cell_type": "code",
   "execution_count": 67,
   "metadata": {},
   "outputs": [],
   "source": [
    "# Remove an element from the Linked List\n",
    "class Node:\n",
    "    def __init__(self, data = None):\n",
    "        self.data = data\n",
    "        self.next = None\n",
    "class SingleLL:\n",
    "    def __init__(self):\n",
    "        self.head = None\n",
    "    def printll(self):\n",
    "        printdata = self.head\n",
    "        while printdata:\n",
    "            print(printdata.data)\n",
    "            printdata = printdata.next\n",
    "    def Remove(self, Rdata):\n",
    "        headCheck = self.head\n",
    "        if headCheck is not None:\n",
    "            if headCheck.data == Rdata:\n",
    "                self.head = headCheck.next\n",
    "                headCheck = None\n",
    "                return\n",
    "        while headCheck is not None:\n",
    "            if headCheck.data == Rdata:\n",
    "                break\n",
    "            preVal = headCheck\n",
    "            headCheck = headCheck.next\n",
    "            if headCheck == None:\n",
    "                return\n",
    "        preVal.next = headCheck.next\n",
    "        headCheck = None"
   ]
  },
  {
   "cell_type": "code",
   "execution_count": 73,
   "metadata": {},
   "outputs": [
    {
     "name": "stdout",
     "output_type": "stream",
     "text": [
      "Monday\n",
      "Tuesday\n",
      "Wednesday\n",
      "Friday\n"
     ]
    }
   ],
   "source": [
    "llist = SingleLL()\n",
    "llist.head = Node('Monday')\n",
    "\n",
    "d2 = Node('Tuesday')\n",
    "d3 = Node('Wednesday')\n",
    "d4 = Node('Thursday')\n",
    "d5 = Node('Friday')\n",
    "\n",
    "llist.head.next = d2\n",
    "d2.next = d3\n",
    "d3.next = d4\n",
    "d4.next = d5\n",
    "\n",
    "llist.Remove('Thursday')\n",
    "\n",
    "llist.printll()"
   ]
  },
  {
   "cell_type": "code",
   "execution_count": 74,
   "metadata": {},
   "outputs": [],
   "source": [
    "# All in one Program\n",
    "class Node:\n",
    "    def __init__(self, data = None):\n",
    "        self.data = data\n",
    "        self.next = None\n",
    "class SingleLL:\n",
    "    def __init__(self):\n",
    "        self.head = None\n",
    "        \n",
    "    # Print the elements of the Linked List\n",
    "    def printll(self):\n",
    "        printdata = self.head\n",
    "        while printdata:\n",
    "            print(printdata.data)\n",
    "            printdata = printdata.next\n",
    "    \n",
    "    # Insert @ begining\n",
    "    def InsertB(self, newdata):\n",
    "        newNode = Node(newdata)\n",
    "        newNode.next = self.head\n",
    "        self.head = newNode\n",
    "        \n",
    "    # Insert in between\n",
    "    def InsertBW(self, middleVal, newdata):\n",
    "        newNode = Node(newdata)\n",
    "        newNode.next = middleVal.next\n",
    "        middleVal.next = newNode\n",
    "    \n",
    "    # Insert @ end\n",
    "    def InsertE(self, newdata):\n",
    "        newNode = Node(newdata)\n",
    "        \n",
    "        if self.head is None:\n",
    "            self.head = newNode\n",
    "            return\n",
    "        \n",
    "        nodeTraverse = self.head\n",
    "        # Go till last node ( not till None present at lastNode)\n",
    "        while nodeTraverse.next: \n",
    "            nodeTraverse = nodeTraverse.next\n",
    "        nodeTraverse.next = newNode\n",
    "        \n",
    "    # Remove an element from Linked List\n",
    "    def Remove(self, Rdata):\n",
    "        headCheck = self.head\n",
    "        if headCheck is not None:\n",
    "            if headCheck.data == Rdata:\n",
    "                self.head = headCheck.next\n",
    "                headCheck = None\n",
    "                return\n",
    "        while headCheck is not None:\n",
    "            if headCheck.data == Rdata:\n",
    "                break\n",
    "            preVal = headCheck\n",
    "            headCheck = headCheck.next\n",
    "            if headCheck == None:\n",
    "                return\n",
    "        preVal.next = headCheck.next\n",
    "        headCheck = None\n",
    "        "
   ]
  },
  {
   "cell_type": "code",
   "execution_count": 76,
   "metadata": {},
   "outputs": [
    {
     "name": "stdout",
     "output_type": "stream",
     "text": [
      "Sunday\n",
      "New Monday\n",
      "Tuesday\n",
      "Wednesday\n",
      "Thursday\n",
      "Friday\n",
      "Saturday\n"
     ]
    }
   ],
   "source": [
    "llist = SingleLL()\n",
    "llist.head = Node('Monday')\n",
    "\n",
    "d2 = Node('Tuesday')\n",
    "d3 = Node('Wednesday')\n",
    "d4 = Node('Thursday')\n",
    "d5 = Node('Friday')\n",
    "\n",
    "llist.head.next = d2\n",
    "d2.next = d3\n",
    "d3.next = d4\n",
    "d4.next = d5\n",
    "\n",
    "llist.Remove('Monday')\n",
    "llist.InsertB('Sunday')\n",
    "llist.InsertE('Saturday')\n",
    "llist.InsertBW(llist.head, 'New Monday')\n",
    "\n",
    "llist.printll()"
   ]
  },
  {
   "cell_type": "code",
   "execution_count": null,
   "metadata": {},
   "outputs": [],
   "source": []
  }
 ],
 "metadata": {
  "kernelspec": {
   "display_name": "Python 3",
   "language": "python",
   "name": "python3"
  },
  "language_info": {
   "codemirror_mode": {
    "name": "ipython",
    "version": 3
   },
   "file_extension": ".py",
   "mimetype": "text/x-python",
   "name": "python",
   "nbconvert_exporter": "python",
   "pygments_lexer": "ipython3",
   "version": "3.6.4"
  }
 },
 "nbformat": 4,
 "nbformat_minor": 2
}
