{
 "cells": [
  {
   "cell_type": "markdown",
   "metadata": {},
   "source": [
    "* First in First out (FIFO)\n",
    "* Elements are added at one end and are removed from another end.\n"
   ]
  },
  {
   "cell_type": "code",
   "execution_count": 7,
   "metadata": {},
   "outputs": [],
   "source": [
    "class Queue:\n",
    "    def __init__(self):\n",
    "        self.queue = []\n",
    "    def add(self, data):\n",
    "        self.queue.insert(0, data)\n",
    "        return\n",
    "    def printq(self):\n",
    "        if len(self.queue) <= 0:\n",
    "            return('Queue is Empty')\n",
    "        else:\n",
    "            for i in range(len(self.queue),0,-1):\n",
    "                print(self.queue[i-1])"
   ]
  },
  {
   "cell_type": "code",
   "execution_count": 13,
   "metadata": {},
   "outputs": [],
   "source": [
    "queue = Queue()"
   ]
  },
  {
   "cell_type": "code",
   "execution_count": 14,
   "metadata": {},
   "outputs": [],
   "source": [
    "queue.add(2)\n",
    "queue.add(3)\n",
    "queue.add(4)\n",
    "queue.add(5)"
   ]
  },
  {
   "cell_type": "code",
   "execution_count": 15,
   "metadata": {},
   "outputs": [
    {
     "name": "stdout",
     "output_type": "stream",
     "text": [
      "2\n",
      "3\n",
      "4\n",
      "5\n"
     ]
    }
   ],
   "source": [
    "queue.printq()"
   ]
  },
  {
   "cell_type": "code",
   "execution_count": 16,
   "metadata": {},
   "outputs": [],
   "source": [
    "class Queue:\n",
    "    def __init__(self):\n",
    "        self.queue = []\n",
    "    # Add/insert element to the front\n",
    "    def add(self, data):\n",
    "        self.queue.insert(0, data)\n",
    "        return\n",
    "    # Remove an element from queue(FIFO)\n",
    "    def remove(self):\n",
    "        if len(self.queue) <= 0:\n",
    "            print('Queue is empty')\n",
    "        else:\n",
    "            return self.queue.pop()\n",
    "    # Print all elements of the stack \n",
    "    def printq(self):\n",
    "        if len(self.queue) <= 0:\n",
    "            print('Queue is Empty')\n",
    "        else:\n",
    "            for i in range(len(self.queue), 0, -1):\n",
    "                print(self.queue[i-1])"
   ]
  },
  {
   "cell_type": "code",
   "execution_count": 21,
   "metadata": {},
   "outputs": [],
   "source": [
    "queue = Queue()"
   ]
  },
  {
   "cell_type": "code",
   "execution_count": 22,
   "metadata": {},
   "outputs": [],
   "source": [
    "queue.add(2)\n",
    "queue.add(4)\n",
    "queue.add(6)\n",
    "queue.add(8)\n",
    "queue.add(10)\n",
    "queue.add(12)"
   ]
  },
  {
   "cell_type": "code",
   "execution_count": 23,
   "metadata": {},
   "outputs": [
    {
     "name": "stdout",
     "output_type": "stream",
     "text": [
      "2\n",
      "4\n",
      "6\n",
      "8\n",
      "10\n",
      "12\n"
     ]
    }
   ],
   "source": [
    "queue.printq()"
   ]
  },
  {
   "cell_type": "code",
   "execution_count": 24,
   "metadata": {},
   "outputs": [
    {
     "data": {
      "text/plain": [
       "2"
      ]
     },
     "execution_count": 24,
     "metadata": {},
     "output_type": "execute_result"
    }
   ],
   "source": [
    "queue.remove()"
   ]
  },
  {
   "cell_type": "code",
   "execution_count": 25,
   "metadata": {},
   "outputs": [
    {
     "name": "stdout",
     "output_type": "stream",
     "text": [
      "4\n",
      "6\n",
      "8\n",
      "10\n",
      "12\n"
     ]
    }
   ],
   "source": [
    "queue.printq()"
   ]
  },
  {
   "cell_type": "code",
   "execution_count": null,
   "metadata": {},
   "outputs": [],
   "source": []
  }
 ],
 "metadata": {
  "kernelspec": {
   "display_name": "Python 3",
   "language": "python",
   "name": "python3"
  },
  "language_info": {
   "codemirror_mode": {
    "name": "ipython",
    "version": 3
   },
   "file_extension": ".py",
   "mimetype": "text/x-python",
   "name": "python",
   "nbconvert_exporter": "python",
   "pygments_lexer": "ipython3",
   "version": "3.6.4"
  }
 },
 "nbformat": 4,
 "nbformat_minor": 2
}
