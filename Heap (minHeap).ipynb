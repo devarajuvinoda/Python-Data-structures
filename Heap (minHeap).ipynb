{
 "cells": [
  {
   "cell_type": "code",
   "execution_count": 67,
   "metadata": {},
   "outputs": [],
   "source": [
    "class Heap():\n",
    "    \n",
    "    def __init__(self):\n",
    "        \n",
    "        self.list = [0]\n",
    "        self.size = 0\n",
    "        \n",
    "    # write insertHeap prior to this\n",
    "    def heapifyUp(self, size):\n",
    "        while(size // 2 > 0):\n",
    "            # value inserted at end is less than its parent\n",
    "            if(self.list[size] < self.list[size // 2]):\n",
    "                temp = self.list[size]\n",
    "                self.list[size] = self.list[size // 2]\n",
    "                self.list[size // 2] = temp\n",
    "            size //= 2\n",
    "        \n",
    "    # first write this\n",
    "    def insertHeap(self, value):\n",
    "        self.list.append(value)\n",
    "        self.size += 1\n",
    "        self.heapifyUp(self.size)\n",
    "        \n",
    "    def heapifyDown(self, i):\n",
    "        while( 2*i ) <= self.size:\n",
    "            # find minimum child of a given node\n",
    "            mc = self.minChild(i)\n",
    "            \n",
    "            if(self.list[i] > self.list[mc]):\n",
    "                temp = self.list[i]\n",
    "                self.list[i] = self.list[mc]\n",
    "                self.list[mc] = temp\n",
    "            i = mc\n",
    "    \n",
    "    def minChild(self, i):\n",
    "        if((2*i+1) > self.size):\n",
    "            return(2*i)\n",
    "        else:\n",
    "            if(self.list[2*i] > self.list[2*i + 1]):\n",
    "                return(2*i + 1)\n",
    "            else:\n",
    "                return(2*i)\n",
    "        \n",
    "    def delMin(self):\n",
    "        dval = self.list[1]\n",
    "        # replace root node with last element\n",
    "        self.list[1] = self.list[self.size]\n",
    "        self.size -= 1\n",
    "        self.list.pop()\n",
    "        self.heapifyDown(1)\n",
    "        \n",
    "        return(dval)\n",
    "    \n",
    "\n",
    "    def buildHeap(self, lis):\n",
    "        i = len(lis) // 2\n",
    "        self.size = len(lis)\n",
    "        self.list = [0] + lis\n",
    "        while(i > 0):\n",
    "            self.heapifyDown(i)\n",
    "            i -= 1\n",
    "    "
   ]
  },
  {
   "cell_type": "code",
   "execution_count": 68,
   "metadata": {},
   "outputs": [],
   "source": [
    "h = Heap()\n",
    "h.buildHeap([9,5,6,2,3,0,1,-2])"
   ]
  },
  {
   "cell_type": "code",
   "execution_count": 69,
   "metadata": {},
   "outputs": [
    {
     "data": {
      "text/plain": [
       "-2"
      ]
     },
     "execution_count": 69,
     "metadata": {},
     "output_type": "execute_result"
    }
   ],
   "source": [
    "h.delMin()"
   ]
  },
  {
   "cell_type": "code",
   "execution_count": 70,
   "metadata": {},
   "outputs": [
    {
     "data": {
      "text/plain": [
       "0"
      ]
     },
     "execution_count": 70,
     "metadata": {},
     "output_type": "execute_result"
    }
   ],
   "source": [
    "h.delMin()"
   ]
  },
  {
   "cell_type": "code",
   "execution_count": 71,
   "metadata": {},
   "outputs": [
    {
     "data": {
      "text/plain": [
       "1"
      ]
     },
     "execution_count": 71,
     "metadata": {},
     "output_type": "execute_result"
    }
   ],
   "source": [
    "h.delMin()"
   ]
  },
  {
   "cell_type": "code",
   "execution_count": 72,
   "metadata": {},
   "outputs": [
    {
     "data": {
      "text/plain": [
       "2"
      ]
     },
     "execution_count": 72,
     "metadata": {},
     "output_type": "execute_result"
    }
   ],
   "source": [
    "h.delMin()"
   ]
  },
  {
   "cell_type": "code",
   "execution_count": 73,
   "metadata": {},
   "outputs": [],
   "source": [
    "h.insertHeap(0)"
   ]
  },
  {
   "cell_type": "code",
   "execution_count": 74,
   "metadata": {},
   "outputs": [
    {
     "data": {
      "text/plain": [
       "0"
      ]
     },
     "execution_count": 74,
     "metadata": {},
     "output_type": "execute_result"
    }
   ],
   "source": [
    "h.delMin()"
   ]
  },
  {
   "cell_type": "code",
   "execution_count": 75,
   "metadata": {},
   "outputs": [],
   "source": [
    "h.insertHeap(1)"
   ]
  },
  {
   "cell_type": "code",
   "execution_count": 76,
   "metadata": {},
   "outputs": [
    {
     "data": {
      "text/plain": [
       "1"
      ]
     },
     "execution_count": 76,
     "metadata": {},
     "output_type": "execute_result"
    }
   ],
   "source": [
    "h.delMin()"
   ]
  },
  {
   "cell_type": "code",
   "execution_count": 77,
   "metadata": {},
   "outputs": [],
   "source": [
    "h.insertHeap(-10)"
   ]
  },
  {
   "cell_type": "code",
   "execution_count": 78,
   "metadata": {},
   "outputs": [
    {
     "data": {
      "text/plain": [
       "-10"
      ]
     },
     "execution_count": 78,
     "metadata": {},
     "output_type": "execute_result"
    }
   ],
   "source": [
    "h.delMin()"
   ]
  },
  {
   "cell_type": "code",
   "execution_count": null,
   "metadata": {},
   "outputs": [],
   "source": []
  }
 ],
 "metadata": {
  "kernelspec": {
   "display_name": "Python 3",
   "language": "python",
   "name": "python3"
  },
  "language_info": {
   "codemirror_mode": {
    "name": "ipython",
    "version": 3
   },
   "file_extension": ".py",
   "mimetype": "text/x-python",
   "name": "python",
   "nbconvert_exporter": "python",
   "pygments_lexer": "ipython3",
   "version": "3.6.4"
  }
 },
 "nbformat": 4,
 "nbformat_minor": 2
}
