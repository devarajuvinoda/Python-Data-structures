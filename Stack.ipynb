{
 "cells": [
  {
   "cell_type": "markdown",
   "metadata": {},
   "source": [
    "* LIFO (Last in First out)\n",
    "* Operation is performed at one end of the Stack (at top)\n",
    "* Elements can be removed only from the top \n",
    "* PUSH --> ADD an element to stack\n",
    "* POP --> REMOVE an element from stack\n",
    "* PEEK --> Look at the top of the stack"
   ]
  },
  {
   "cell_type": "code",
   "execution_count": 14,
   "metadata": {},
   "outputs": [],
   "source": [
    "# PUSHing an element to the stack\n",
    "class Stack:\n",
    "    def __init__(self):\n",
    "        self.stack = []\n",
    "    def add(self, data):\n",
    "        self.stack.append(data)\n",
    "        return\n",
    "    def peek(self):\n",
    "        return self.stack[0]"
   ]
  },
  {
   "cell_type": "code",
   "execution_count": 15,
   "metadata": {},
   "outputs": [],
   "source": [
    "stack = Stack()"
   ]
  },
  {
   "cell_type": "code",
   "execution_count": 16,
   "metadata": {},
   "outputs": [],
   "source": [
    "stack.add(1)\n",
    "stack.add(2)\n",
    "stack.add(3)\n",
    "stack.add(4)\n",
    "stack.add(5)\n",
    "stack.add(6)"
   ]
  },
  {
   "cell_type": "code",
   "execution_count": 17,
   "metadata": {},
   "outputs": [
    {
     "data": {
      "text/plain": [
       "1"
      ]
     },
     "execution_count": 17,
     "metadata": {},
     "output_type": "execute_result"
    }
   ],
   "source": [
    "stack.peek()"
   ]
  },
  {
   "cell_type": "code",
   "execution_count": 38,
   "metadata": {},
   "outputs": [],
   "source": [
    "# POPing an element from the stack\n",
    "class Stack:\n",
    "    def __init__(self):\n",
    "        self.stack = []\n",
    "    # Add(PUSH) an element to the stack\n",
    "    def add(self, data):\n",
    "        self.stack.append(data)\n",
    "        return\n",
    "    # Remove(POP) an element from the stack (LIFO)\n",
    "    def remove(self):\n",
    "        if len(self.stack) <= 0:\n",
    "            return('Stack is Empty')\n",
    "        else:\n",
    "            self.stack.pop()\n",
    "    # Peek at the top element of the stack\n",
    "    def peek(self):\n",
    "        return self.stack[0]\n",
    "    # Print the elements of the Stack\n",
    "    def prints(self):\n",
    "        if len(self.stack) <= 0:\n",
    "            return\n",
    "        else:\n",
    "            for i in range(len(self.stack),0,-1):\n",
    "                print(self.stack[i-1])"
   ]
  },
  {
   "cell_type": "code",
   "execution_count": 39,
   "metadata": {},
   "outputs": [],
   "source": [
    "stack = Stack()"
   ]
  },
  {
   "cell_type": "code",
   "execution_count": 55,
   "metadata": {},
   "outputs": [],
   "source": [
    "stack.add('Monday')\n",
    "stack.add('Tuesday')\n",
    "stack.add('Wednesday')\n",
    "stack.add('Thursday')\n",
    "stack.add('Friday')\n",
    "stack.add('Saturday')"
   ]
  },
  {
   "cell_type": "code",
   "execution_count": 56,
   "metadata": {},
   "outputs": [
    {
     "name": "stdout",
     "output_type": "stream",
     "text": [
      "Saturday\n",
      "Friday\n",
      "Thursday\n",
      "Wednesday\n",
      "Tuesday\n",
      "Monday\n"
     ]
    }
   ],
   "source": [
    "stack.prints()"
   ]
  },
  {
   "cell_type": "code",
   "execution_count": 57,
   "metadata": {},
   "outputs": [],
   "source": [
    "stack.remove()"
   ]
  },
  {
   "cell_type": "code",
   "execution_count": 58,
   "metadata": {},
   "outputs": [
    {
     "name": "stdout",
     "output_type": "stream",
     "text": [
      "Friday\n",
      "Thursday\n",
      "Wednesday\n",
      "Tuesday\n",
      "Monday\n"
     ]
    }
   ],
   "source": [
    "stack.prints()"
   ]
  },
  {
   "cell_type": "code",
   "execution_count": null,
   "metadata": {},
   "outputs": [],
   "source": []
  }
 ],
 "metadata": {
  "kernelspec": {
   "display_name": "Python 3",
   "language": "python",
   "name": "python3"
  },
  "language_info": {
   "codemirror_mode": {
    "name": "ipython",
    "version": 3
   },
   "file_extension": ".py",
   "mimetype": "text/x-python",
   "name": "python",
   "nbconvert_exporter": "python",
   "pygments_lexer": "ipython3",
   "version": "3.6.4"
  }
 },
 "nbformat": 4,
 "nbformat_minor": 2
}
