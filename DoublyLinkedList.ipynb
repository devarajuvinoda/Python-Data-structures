{
 "cells": [
  {
   "cell_type": "code",
   "execution_count": 14,
   "metadata": {},
   "outputs": [],
   "source": [
    "class Node:\n",
    "    def __init__(self, data):\n",
    "        self.data = data\n",
    "        self.next = None\n",
    "        self.prev = None\n",
    "        \n",
    "class DoublyLL:\n",
    "    def __init__(self):\n",
    "        self.head = None\n",
    "        \n",
    "    def push(self, newdata):\n",
    "        newNode = Node(newdata)\n",
    "        newNode.next = self.head\n",
    "        if self.head:\n",
    "            self.head.prev = newNode\n",
    "        self.head = newNode\n",
    "    \n",
    "    def printdll(self):\n",
    "        printdata = self.head\n",
    "        while printdata:\n",
    "            print(printdata.data)\n",
    "            printdata = printdata.next\n"
   ]
  },
  {
   "cell_type": "code",
   "execution_count": 20,
   "metadata": {},
   "outputs": [],
   "source": [
    "dll = DoublyLL()"
   ]
  },
  {
   "cell_type": "code",
   "execution_count": 21,
   "metadata": {},
   "outputs": [],
   "source": [
    "dll.push(1)\n",
    "dll.push(2)\n",
    "dll.push(3)\n",
    "dll.push(4)"
   ]
  },
  {
   "cell_type": "code",
   "execution_count": 22,
   "metadata": {},
   "outputs": [
    {
     "name": "stdout",
     "output_type": "stream",
     "text": [
      "4\n",
      "3\n",
      "2\n",
      "1\n"
     ]
    }
   ],
   "source": [
    "dll.printdll()"
   ]
  },
  {
   "cell_type": "code",
   "execution_count": 31,
   "metadata": {},
   "outputs": [],
   "source": [
    "# insert an element between the nodes\n",
    "class Node:\n",
    "    def __init__(self, data):\n",
    "        self.data = data\n",
    "        self.next = None\n",
    "        self.prev = None\n",
    "    \n",
    "class DoublyLL:\n",
    "    def __init__(self):\n",
    "        self.head = None\n",
    "    \n",
    "    def push(self, newdata):\n",
    "        newNode = Node(newdata)\n",
    "        newNode.next = self.head\n",
    "        if self.head:\n",
    "            self.head.prev = newNode\n",
    "        self.head = newNode\n",
    "    \n",
    "    def printdll(self):\n",
    "        printdata = self.head\n",
    "        while printdata:\n",
    "            print(printdata.data)\n",
    "            printdata = printdata.next\n",
    "    \n",
    "    def insertBW(self, prevNode, newdata):\n",
    "        if prevNode is None:\n",
    "            return\n",
    "        newNode = Node(newdata)\n",
    "        newNode.next = prevNode.next\n",
    "        prevNode.next = newNode\n",
    "        newNode.prev = prevNode\n",
    "        if newNode.next:\n",
    "            newNode.next.prev = newNode"
   ]
  },
  {
   "cell_type": "code",
   "execution_count": 40,
   "metadata": {},
   "outputs": [],
   "source": [
    "dll = DoublyLL()"
   ]
  },
  {
   "cell_type": "code",
   "execution_count": 41,
   "metadata": {},
   "outputs": [],
   "source": [
    "dll.push(1)\n",
    "dll.push(2)\n",
    "dll.push(3)\n",
    "dll.push(4)\n",
    "dll.push(5)\n",
    "dll.push(6)"
   ]
  },
  {
   "cell_type": "code",
   "execution_count": 42,
   "metadata": {},
   "outputs": [
    {
     "name": "stdout",
     "output_type": "stream",
     "text": [
      "6\n",
      "5\n",
      "4\n",
      "3\n",
      "2\n",
      "1\n"
     ]
    }
   ],
   "source": [
    "dll.printdll()"
   ]
  },
  {
   "cell_type": "code",
   "execution_count": 43,
   "metadata": {},
   "outputs": [],
   "source": [
    "dll.insertBW(dll.head.next.next, 1000)"
   ]
  },
  {
   "cell_type": "code",
   "execution_count": 44,
   "metadata": {},
   "outputs": [
    {
     "name": "stdout",
     "output_type": "stream",
     "text": [
      "6\n",
      "5\n",
      "4\n",
      "1000\n",
      "3\n",
      "2\n",
      "1\n"
     ]
    }
   ],
   "source": [
    "dll.printdll()"
   ]
  },
  {
   "cell_type": "code",
   "execution_count": 53,
   "metadata": {},
   "outputs": [],
   "source": [
    "# append at the end of the list\n",
    "class Node:\n",
    "    def __init__(self, data):\n",
    "        self.data = data\n",
    "        self.next = None\n",
    "        self.prev = None\n",
    "class DoublyLL:\n",
    "    def __init__(self):\n",
    "        self.head = None\n",
    "    def push(self, newdata):\n",
    "        newNode = Node(newdata)\n",
    "        newNode.next = self.head\n",
    "        if self.head:\n",
    "            self.head.prev = newNode\n",
    "        self.head = newNode\n",
    "    def printdll(self):\n",
    "        printdata = self.head\n",
    "        while printdata:\n",
    "            print(printdata.data)\n",
    "            printdata = printdata.next\n",
    "    def append(self, newdata):\n",
    "        newNode = Node(newdata)\n",
    "        if self.head is None:\n",
    "            self.head = newNode\n",
    "            newNode.prev = None\n",
    "            return\n",
    "        tillLast = self.head\n",
    "        # Careful!\n",
    "        while tillLast.next:\n",
    "            tillLast = tillLast.next\n",
    "        tillLast.next = newNode\n",
    "        newNode.prev = tillLast\n",
    "        return"
   ]
  },
  {
   "cell_type": "code",
   "execution_count": 59,
   "metadata": {},
   "outputs": [],
   "source": [
    "dll = DoublyLL()"
   ]
  },
  {
   "cell_type": "code",
   "execution_count": 58,
   "metadata": {},
   "outputs": [],
   "source": [
    "dll.push(1)\n",
    "dll.push(2)\n",
    "dll.push(3)\n",
    "dll.append(78)\n",
    "dll.push(4)\n",
    "dll.push(5)\n",
    "dll.push(6)"
   ]
  },
  {
   "cell_type": "code",
   "execution_count": 56,
   "metadata": {},
   "outputs": [],
   "source": [
    "dll.append(89)"
   ]
  },
  {
   "cell_type": "code",
   "execution_count": 57,
   "metadata": {},
   "outputs": [
    {
     "name": "stdout",
     "output_type": "stream",
     "text": [
      "6\n",
      "5\n",
      "4\n",
      "3\n",
      "2\n",
      "1\n",
      "89\n"
     ]
    }
   ],
   "source": [
    "dll.printdll()"
   ]
  },
  {
   "cell_type": "code",
   "execution_count": null,
   "metadata": {},
   "outputs": [],
   "source": [
    "# Node class\n",
    "class Node:\n",
    "    def __init__(self, data):\n",
    "        self.data = data\n",
    "        self.next = None\n",
    "        self.prev = None\n",
    "        \n",
    "class DoublyLL:\n",
    "    def __init__(self):\n",
    "        self.head = None\n",
    "    \n",
    "    # Push the elements into the DLL\n",
    "    def push(self, newdata):\n",
    "        newNode = Node(newdata)\n",
    "        newNode.next = self.head\n",
    "        if self.head:\n",
    "            self.head.prev = newNode\n",
    "        self.head = newNode\n",
    "        \n",
    "    # Print the elements of the DLL\n",
    "    def printdll(self):\n",
    "        printdata = self.head\n",
    "        while printdata:\n",
    "            print(printdata.data)\n",
    "            printdata = printdata.next\n",
    "    \n",
    "    # Add element at the end of the DLL\n",
    "    def append(self, newdata):\n",
    "        newNode = Node(newdata)\n",
    "        if self.head is None:\n",
    "            self.head = newNode\n",
    "            newNode.prev = None\n",
    "            return\n",
    "        tillLast = self.head\n",
    "        while tillLast.next:\n",
    "            tillLast = tillLast.next\n",
    "        tillLast.next = newNode\n",
    "        newNode.prev = tillLast\n",
    "        return\n",
    "    \n",
    "    # Insert an element between the nodes\n",
    "     def insertBW(self, prevNode, newdata):\n",
    "        if prevNode is None:\n",
    "            return\n",
    "        newNode = Node(newdata)\n",
    "        newNode.next = prevNode.next\n",
    "        prevNode.next = newNode\n",
    "        newNode.prev = prevNode\n",
    "        if newNode.next:\n",
    "            newNode.next.prev = newNode"
   ]
  }
 ],
 "metadata": {
  "kernelspec": {
   "display_name": "Python 3",
   "language": "python",
   "name": "python3"
  },
  "language_info": {
   "codemirror_mode": {
    "name": "ipython",
    "version": 3
   },
   "file_extension": ".py",
   "mimetype": "text/x-python",
   "name": "python",
   "nbconvert_exporter": "python",
   "pygments_lexer": "ipython3",
   "version": "3.6.4"
  }
 },
 "nbformat": 4,
 "nbformat_minor": 2
}
